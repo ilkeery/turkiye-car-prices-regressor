{
 "cells": [
  {
   "cell_type": "markdown",
   "id": "90854ebd",
   "metadata": {},
   "source": [
    "# Standart imports"
   ]
  },
  {
   "cell_type": "code",
   "execution_count": 1,
   "id": "f332e772",
   "metadata": {},
   "outputs": [],
   "source": [
    "# Regular EDA and plotting libraries\n",
    "import numpy as np # np is short for numpy\n",
    "import pandas as pd # pandas is so commonly used, it's shortened to pd\n",
    "import matplotlib.pyplot as plt\n",
    "import seaborn as sns # seaborn gets shortened to sns\n",
    "\n",
    "# We want our plots to appear in the notebook\n",
    "%matplotlib inline \n",
    "\n",
    "#Models\n",
    "from sklearn.linear_model import Ridge\n",
    "from sklearn.svm import SVR\n",
    "from sklearn.ensemble import RandomForestRegressor\n",
    "\n",
    "## Model evaluators\n",
    "from sklearn.model_selection import train_test_split, cross_val_score\n",
    "from sklearn.model_selection import RandomizedSearchCV, GridSearchCV\n",
    "from sklearn.metrics import confusion_matrix, classification_report\n",
    "from sklearn.metrics import precision_score, recall_score, f1_score\n",
    "from sklearn.metrics import RocCurveDisplay\n",
    "from sklearn.metrics import mean_absolute_error, mean_squared_error, r2_score"
   ]
  },
  {
   "cell_type": "code",
   "execution_count": 2,
   "id": "5b5722a0",
   "metadata": {},
   "outputs": [
    {
     "data": {
      "text/html": [
       "<div>\n",
       "<style scoped>\n",
       "    .dataframe tbody tr th:only-of-type {\n",
       "        vertical-align: middle;\n",
       "    }\n",
       "\n",
       "    .dataframe tbody tr th {\n",
       "        vertical-align: top;\n",
       "    }\n",
       "\n",
       "    .dataframe thead th {\n",
       "        text-align: right;\n",
       "    }\n",
       "</style>\n",
       "<table border=\"1\" class=\"dataframe\">\n",
       "  <thead>\n",
       "    <tr style=\"text-align: right;\">\n",
       "      <th></th>\n",
       "      <th>Marka</th>\n",
       "      <th>Arac Tip Grubu</th>\n",
       "      <th>Arac Tip</th>\n",
       "      <th>Model Yıl</th>\n",
       "      <th>Yakıt Turu</th>\n",
       "      <th>Vites</th>\n",
       "      <th>CCM</th>\n",
       "      <th>Beygir Gucu</th>\n",
       "      <th>Renk</th>\n",
       "      <th>Kasa Tipi</th>\n",
       "      <th>Kimden</th>\n",
       "      <th>Durum</th>\n",
       "      <th>Km</th>\n",
       "      <th>Fiyat</th>\n",
       "    </tr>\n",
       "  </thead>\n",
       "  <tbody>\n",
       "    <tr>\n",
       "      <th>0</th>\n",
       "      <td>Jaguar</td>\n",
       "      <td>XF</td>\n",
       "      <td>2.0 D Prestige Plus</td>\n",
       "      <td>2017.0</td>\n",
       "      <td>Dizel</td>\n",
       "      <td>Otomatik Vites</td>\n",
       "      <td>1801</td>\n",
       "      <td>176</td>\n",
       "      <td>Lacivert</td>\n",
       "      <td>Hatchback 5 Kapı</td>\n",
       "      <td>Galeriden</td>\n",
       "      <td>2. El</td>\n",
       "      <td>26100</td>\n",
       "      <td>634500</td>\n",
       "    </tr>\n",
       "    <tr>\n",
       "      <th>1</th>\n",
       "      <td>Acura</td>\n",
       "      <td>CL</td>\n",
       "      <td>2.2</td>\n",
       "      <td>1994.0</td>\n",
       "      <td>Benzin/LPG</td>\n",
       "      <td>Düz Vites</td>\n",
       "      <td>1301</td>\n",
       "      <td>101</td>\n",
       "      <td>Turkuaz</td>\n",
       "      <td>Sedan</td>\n",
       "      <td>Sahibinden</td>\n",
       "      <td>2. El</td>\n",
       "      <td>175000</td>\n",
       "      <td>19750</td>\n",
       "    </tr>\n",
       "    <tr>\n",
       "      <th>2</th>\n",
       "      <td>Acura</td>\n",
       "      <td>CL</td>\n",
       "      <td>2.2</td>\n",
       "      <td>2010.0</td>\n",
       "      <td>Dizel</td>\n",
       "      <td>Otomatik Vites</td>\n",
       "      <td>1801</td>\n",
       "      <td>151</td>\n",
       "      <td>Beyaz</td>\n",
       "      <td>Sedan</td>\n",
       "      <td>Sahibinden</td>\n",
       "      <td>2. El</td>\n",
       "      <td>207000</td>\n",
       "      <td>148750</td>\n",
       "    </tr>\n",
       "    <tr>\n",
       "      <th>3</th>\n",
       "      <td>Acura</td>\n",
       "      <td>CL</td>\n",
       "      <td>2.2</td>\n",
       "      <td>1999.0</td>\n",
       "      <td>Dizel</td>\n",
       "      <td>Düz Vites</td>\n",
       "      <td>1801</td>\n",
       "      <td>101</td>\n",
       "      <td>Lacivert</td>\n",
       "      <td>Roadster</td>\n",
       "      <td>Galeriden</td>\n",
       "      <td>2. El</td>\n",
       "      <td>320000</td>\n",
       "      <td>42500</td>\n",
       "    </tr>\n",
       "    <tr>\n",
       "      <th>4</th>\n",
       "      <td>Acura</td>\n",
       "      <td>CL</td>\n",
       "      <td>2.2</td>\n",
       "      <td>2014.0</td>\n",
       "      <td>Dizel</td>\n",
       "      <td>Otomatik Vites</td>\n",
       "      <td>1301</td>\n",
       "      <td>101</td>\n",
       "      <td>Kırmızı</td>\n",
       "      <td>Sedan</td>\n",
       "      <td>Galeriden</td>\n",
       "      <td>2. El</td>\n",
       "      <td>183</td>\n",
       "      <td>170000</td>\n",
       "    </tr>\n",
       "    <tr>\n",
       "      <th>...</th>\n",
       "      <td>...</td>\n",
       "      <td>...</td>\n",
       "      <td>...</td>\n",
       "      <td>...</td>\n",
       "      <td>...</td>\n",
       "      <td>...</td>\n",
       "      <td>...</td>\n",
       "      <td>...</td>\n",
       "      <td>...</td>\n",
       "      <td>...</td>\n",
       "      <td>...</td>\n",
       "      <td>...</td>\n",
       "      <td>...</td>\n",
       "      <td>...</td>\n",
       "    </tr>\n",
       "    <tr>\n",
       "      <th>2871</th>\n",
       "      <td>Tofaş</td>\n",
       "      <td>Şahin</td>\n",
       "      <td>1.6</td>\n",
       "      <td>1994.0</td>\n",
       "      <td>Benzin/LPG</td>\n",
       "      <td>Düz Vites</td>\n",
       "      <td>1301</td>\n",
       "      <td>51</td>\n",
       "      <td>Beyaz</td>\n",
       "      <td>Sedan</td>\n",
       "      <td>Galeriden</td>\n",
       "      <td>2. El</td>\n",
       "      <td>121212</td>\n",
       "      <td>12250</td>\n",
       "    </tr>\n",
       "    <tr>\n",
       "      <th>2872</th>\n",
       "      <td>Tofaş</td>\n",
       "      <td>Şahin</td>\n",
       "      <td>Şahin 5 vites</td>\n",
       "      <td>1992.0</td>\n",
       "      <td>Benzin/LPG</td>\n",
       "      <td>Düz Vites</td>\n",
       "      <td>1301</td>\n",
       "      <td>76</td>\n",
       "      <td>Bej</td>\n",
       "      <td>Sedan</td>\n",
       "      <td>Sahibinden</td>\n",
       "      <td>2. El</td>\n",
       "      <td>54000</td>\n",
       "      <td>16300</td>\n",
       "    </tr>\n",
       "    <tr>\n",
       "      <th>2873</th>\n",
       "      <td>Tofaş</td>\n",
       "      <td>Doğan</td>\n",
       "      <td>SLX</td>\n",
       "      <td>1993.0</td>\n",
       "      <td>Benzin/LPG</td>\n",
       "      <td>Düz Vites</td>\n",
       "      <td>1301</td>\n",
       "      <td>76</td>\n",
       "      <td>Yeşil</td>\n",
       "      <td>Sedan</td>\n",
       "      <td>Sahibinden</td>\n",
       "      <td>2. El</td>\n",
       "      <td>135000</td>\n",
       "      <td>19000</td>\n",
       "    </tr>\n",
       "    <tr>\n",
       "      <th>2874</th>\n",
       "      <td>Tofaş</td>\n",
       "      <td>Kartal</td>\n",
       "      <td>Kartal 5 Vites</td>\n",
       "      <td>1991.0</td>\n",
       "      <td>Benzin/LPG</td>\n",
       "      <td>Düz Vites</td>\n",
       "      <td>1601</td>\n",
       "      <td>76</td>\n",
       "      <td>Kırmızı</td>\n",
       "      <td>Hatchback 5 Kapı</td>\n",
       "      <td>Galeriden</td>\n",
       "      <td>2. El</td>\n",
       "      <td>250000</td>\n",
       "      <td>11000</td>\n",
       "    </tr>\n",
       "    <tr>\n",
       "      <th>2875</th>\n",
       "      <td>Tofaş</td>\n",
       "      <td>Kartal</td>\n",
       "      <td>Kartal 5 Vites</td>\n",
       "      <td>1996.0</td>\n",
       "      <td>Benzin/LPG</td>\n",
       "      <td>Düz Vites</td>\n",
       "      <td>1301</td>\n",
       "      <td>51</td>\n",
       "      <td>Beyaz</td>\n",
       "      <td>Sedan</td>\n",
       "      <td>Galeriden</td>\n",
       "      <td>2. El</td>\n",
       "      <td>11</td>\n",
       "      <td>15750</td>\n",
       "    </tr>\n",
       "  </tbody>\n",
       "</table>\n",
       "<p>2876 rows × 14 columns</p>\n",
       "</div>"
      ],
      "text/plain": [
       "       Marka Arac Tip Grubu             Arac Tip  Model Yıl  Yakıt Turu  \\\n",
       "0     Jaguar             XF  2.0 D Prestige Plus     2017.0       Dizel   \n",
       "1      Acura             CL                  2.2     1994.0  Benzin/LPG   \n",
       "2      Acura             CL                  2.2     2010.0       Dizel   \n",
       "3      Acura             CL                  2.2     1999.0       Dizel   \n",
       "4      Acura             CL                  2.2     2014.0       Dizel   \n",
       "...      ...            ...                  ...        ...         ...   \n",
       "2871   Tofaş          Şahin                  1.6     1994.0  Benzin/LPG   \n",
       "2872   Tofaş          Şahin        Şahin 5 vites     1992.0  Benzin/LPG   \n",
       "2873   Tofaş          Doğan                  SLX     1993.0  Benzin/LPG   \n",
       "2874   Tofaş         Kartal       Kartal 5 Vites     1991.0  Benzin/LPG   \n",
       "2875   Tofaş         Kartal       Kartal 5 Vites     1996.0  Benzin/LPG   \n",
       "\n",
       "               Vites   CCM  Beygir Gucu       Renk         Kasa Tipi  \\\n",
       "0     Otomatik Vites  1801          176  Lacivert   Hatchback 5 Kapı   \n",
       "1          Düz Vites  1301          101   Turkuaz              Sedan   \n",
       "2     Otomatik Vites  1801          151     Beyaz              Sedan   \n",
       "3          Düz Vites  1801          101  Lacivert           Roadster   \n",
       "4     Otomatik Vites  1301          101   Kırmızı              Sedan   \n",
       "...              ...   ...          ...        ...               ...   \n",
       "2871       Düz Vites  1301           51     Beyaz              Sedan   \n",
       "2872       Düz Vites  1301           76       Bej              Sedan   \n",
       "2873       Düz Vites  1301           76     Yeşil              Sedan   \n",
       "2874       Düz Vites  1601           76   Kırmızı   Hatchback 5 Kapı   \n",
       "2875       Düz Vites  1301           51     Beyaz              Sedan   \n",
       "\n",
       "          Kimden  Durum      Km   Fiyat  \n",
       "0      Galeriden  2. El   26100  634500  \n",
       "1     Sahibinden  2. El  175000   19750  \n",
       "2     Sahibinden  2. El  207000  148750  \n",
       "3      Galeriden  2. El  320000   42500  \n",
       "4      Galeriden  2. El     183  170000  \n",
       "...          ...    ...     ...     ...  \n",
       "2871   Galeriden  2. El  121212   12250  \n",
       "2872  Sahibinden  2. El   54000   16300  \n",
       "2873  Sahibinden  2. El  135000   19000  \n",
       "2874   Galeriden  2. El  250000   11000  \n",
       "2875   Galeriden  2. El      11   15750  \n",
       "\n",
       "[2876 rows x 14 columns]"
      ]
     },
     "execution_count": 2,
     "metadata": {},
     "output_type": "execute_result"
    }
   ],
   "source": [
    "df = pd.read_csv(\"data/car_data_preproccesed.csv\")\n",
    "df = df.drop(\"Unnamed: 0\", axis=1)\n",
    "df"
   ]
  },
  {
   "cell_type": "code",
   "execution_count": 3,
   "id": "30316913",
   "metadata": {},
   "outputs": [],
   "source": [
    "# Split data into X & y\n",
    "X = df.drop(\"Fiyat\", axis=1)\n",
    "y = df[\"Fiyat\"]"
   ]
  },
  {
   "cell_type": "markdown",
   "id": "e40a343e",
   "metadata": {},
   "source": [
    "## Important\n",
    "* We don't need to use SimpleImputer because we have already done that on data_preprocessing\n",
    "* Also we don't have to use Pipeline, we can use ColumnTransformer directly, most important thing is we have to use fit_transform() to avoid data leak."
   ]
  },
  {
   "cell_type": "code",
   "execution_count": 4,
   "id": "ee629b99",
   "metadata": {},
   "outputs": [],
   "source": [
    "from sklearn.pipeline import Pipeline\n",
    "from sklearn.impute import SimpleImputer # this will help us fill missing values\n",
    "from sklearn.preprocessing import OneHotEncoder # this will help us turn our categorical variables into numbers\n",
    "\n",
    "# Define categorical columns\n",
    "categorical_features = [\"Marka\", \"Arac Tip Grubu\", \"Arac Tip\", \"Yakıt Turu\", \"Vites\",\n",
    "                        \"Renk\", \"Kasa Tipi\", \"Kimden\", \"Durum\"]\n",
    "\n",
    "# Create categorical transformer (imputes missing values, then one hot encodes them)\n",
    "# For this instance there is no missing values\n",
    "categorical_transformer = Pipeline(steps=[\n",
    "    (\"onehot\", OneHotEncoder(handle_unknown=\"ignore\"))\n",
    "])\n",
    "\n",
    "# Define numeric features\n",
    "numerical_features = [\"Model Yıl\", \"Km\"]\n",
    "# Dont need to define numeric features because it's already numeric and there is no missing values\n",
    "# But we will use it to sake of order\n",
    "numerical_transformer = Pipeline(steps=[\n",
    "    (\"imputer\", SimpleImputer(strategy=\"mean\"))\n",
    "])"
   ]
  },
  {
   "cell_type": "code",
   "execution_count": 5,
   "id": "790b9848",
   "metadata": {},
   "outputs": [],
   "source": [
    "from sklearn.compose import ColumnTransformer\n",
    "\n",
    "# Create a column transformer which combines all of the other transformer into one step\n",
    "preprocessor = ColumnTransformer(\n",
    "    transformers=[\n",
    "        # (name, transformer_to_use, features_to_use transform)\n",
    "        (\"categorical\", categorical_transformer, categorical_features),\n",
    "        (\"numerical\", numerical_transformer, numerical_features)\n",
    "    ])"
   ]
  },
  {
   "cell_type": "code",
   "execution_count": 6,
   "id": "3ee8158c",
   "metadata": {},
   "outputs": [],
   "source": [
    "from sklearn.model_selection import train_test_split\n",
    "\n",
    "# Split data into train and test test\n",
    "np.random.seed(27)\n",
    "X_train, X_test, y_train, y_test = train_test_split(X, y, test_size=0.2)\n",
    "\n"
   ]
  },
  {
   "cell_type": "code",
   "execution_count": 7,
   "id": "eb259c6d",
   "metadata": {},
   "outputs": [],
   "source": [
    "# Create dictionary of model instances, there should be 4 total key, value pairs\n",
    "# in the form {\"model_name\": model_instance}.\n",
    "# Don't forget there's two versions of SVR, one with a \"linear\" kernel and the\n",
    "# other with kernel set to \"rbf\".\n",
    "regression_models = {\"Ridge\": Ridge(),\n",
    "                     \"SVR_rbf\": SVR(kernel=\"rbf\"),\n",
    "                     \"RandomForestRegressor\": RandomForestRegressor()}\n",
    "\n",
    "# Create an empty dictionary for the regression results\n",
    "regression_results = {}"
   ]
  },
  {
   "cell_type": "code",
   "execution_count": 8,
   "id": "fa67303b",
   "metadata": {},
   "outputs": [
    {
     "name": "stdout",
     "output_type": "stream",
     "text": [
      "Fitting Ridge...\n",
      "Scoring Ridge...\n",
      "Fitting SVR_rbf...\n",
      "Scoring SVR_rbf...\n",
      "Fitting RandomForestRegressor...\n",
      "Scoring RandomForestRegressor...\n"
     ]
    }
   ],
   "source": [
    "# Loop through the items in the regression_models dictionary\n",
    "for model_name, model in regression_models.items():\n",
    "    \n",
    "    \n",
    "    # Create a model pipeline with a preprocessor step and model step\n",
    "    model_pipeline = Pipeline(steps=[(\"preprocessor\", preprocessor),\n",
    "                                      (\"model\", model)])\n",
    "    \n",
    "    # Fit the model pipeline to the car sales training data\n",
    "    print(f\"Fitting {model_name}...\")\n",
    "    model_pipeline.fit(X_train, y_train)\n",
    "    \n",
    "    # Score the model pipeline on the test data appending the model_name to the \n",
    "    # results dictionary\n",
    "    print(f\"Scoring {model_name}...\")\n",
    "    regression_results[model_name] = model_pipeline.score(X_test, \n",
    "                                                          y_test)\n",
    "    "
   ]
  },
  {
   "cell_type": "code",
   "execution_count": 9,
   "id": "cfba905c",
   "metadata": {},
   "outputs": [
    {
     "name": "stdout",
     "output_type": "stream",
     "text": [
      "{'Ridge': 0.0469939801025232, 'SVR_rbf': -0.04103160007619833, 'RandomForestRegressor': 0.2854409168541453}\n"
     ]
    }
   ],
   "source": [
    "# Model scores\n",
    "print(regression_results)"
   ]
  },
  {
   "cell_type": "code",
   "execution_count": 10,
   "id": "92c8e8dd",
   "metadata": {},
   "outputs": [],
   "source": [
    "# As we can so above the best model is RandomForestRegressor\n",
    "model_pipeline = Pipeline(steps=[(\"preprocessor\", preprocessor),\n",
    "                                (\"model\", RandomForestRegressor())])\n",
    "\n",
    "model_pipeline.fit(X_train, y_train)\n",
    "\n",
    "y_preds = model_pipeline.predict(X_test)\n"
   ]
  },
  {
   "cell_type": "code",
   "execution_count": 11,
   "id": "dbd8843a",
   "metadata": {},
   "outputs": [
    {
     "name": "stdout",
     "output_type": "stream",
     "text": [
      "r^2 score : 58.56%\n",
      "mean absolute error score : 16945.564379133597\n",
      "mean squared error score : 2423547491.8099713\n",
      "{'r2': 0.59, 'mae': 16945.56, 'mse': 2423547491.81}\n"
     ]
    }
   ],
   "source": [
    "# Evaluate our model with different metrics\n",
    "def evaluate_preds(y_true, y_preds):\n",
    "    r2 = r2_score(y_true, y_preds)\n",
    "    mae = mean_absolute_error(y_true, y_preds)\n",
    "    mse = mean_squared_error(y_true, y_preds)\n",
    "    \n",
    "    metric_dict = {\"r2\": round(r2, 2),\n",
    "                  \"mae\": round(mae, 2),\n",
    "                  \"mse\": round(mse, 2)}\n",
    "    \n",
    "    print(f\"r^2 score : {r2 * 100:.2f}%\")\n",
    "    print(f\"mean absolute error score : {mae}\")\n",
    "    print(f\"mean squared error score : {mse}\")\n",
    "    \n",
    "    return metric_dict\n",
    "\n",
    "result = evaluate_preds(y_true=y_test, y_preds=y_preds)\n",
    "print(result)"
   ]
  },
  {
   "cell_type": "code",
   "execution_count": 13,
   "id": "46a6fe32",
   "metadata": {},
   "outputs": [
    {
     "data": {
      "text/plain": [
       "0.7566172154113596"
      ]
     },
     "execution_count": 13,
     "metadata": {},
     "output_type": "execute_result"
    }
   ],
   "source": [
    "from sklearn.model_selection import cross_val_score\n",
    "\n",
    "# Cross-validate our pipeline model\n",
    "cross_val_score(model_pipeline, X_test, y_test).mean()"
   ]
  },
  {
   "cell_type": "markdown",
   "id": "03c04d64",
   "metadata": {},
   "source": [
    "## HyperParameter Tunning\n",
    "* As we can see above our best model is Random Forest Regressor, now we will tune it."
   ]
  },
  {
   "cell_type": "markdown",
   "id": "052243c1",
   "metadata": {},
   "source": [
    "### RandomizedSearchCV \n",
    "* We will use randomized search cv because random forest is an ensemble model and slow to train.\n",
    "* If you want to try every combination of parameters, you need to use GridSearchCV."
   ]
  },
  {
   "cell_type": "code",
   "execution_count": 32,
   "id": "e31190cf",
   "metadata": {},
   "outputs": [],
   "source": [
    "# Setup hyperparameters\n",
    "param_grid = {\n",
    "    \"model__n_estimators\": np.arange(100, 1000, 100), # number of trees in the random forest\n",
    "    \"model__max_features\" : ['auto', 'sqrt'], # number of features in consideration at every split\n",
    "    \"model__max_depth\" : [int(x) for x in np.linspace(10, 120, num = 12)], # maximum number of levels allowed in each decision tree\n",
    "    \"model__min_samples_split\" : [2, 6, 10], # minimum sample number to split a node\n",
    "    \"model__bootstrap\" : [True, False]} # method used to sample data points"
   ]
  },
  {
   "cell_type": "code",
   "execution_count": 33,
   "id": "00ea8fe9",
   "metadata": {},
   "outputs": [],
   "source": [
    "np.random.seed(27)\n",
    "random_search_cv = RandomizedSearchCV(estimator=model_pipeline,\n",
    "                                     param_distributions=param_grid,\n",
    "                                     cv=5,\n",
    "                                     n_iter=30,\n",
    "                                     verbose=True)"
   ]
  },
  {
   "cell_type": "code",
   "execution_count": 34,
   "id": "a087f7cf",
   "metadata": {},
   "outputs": [
    {
     "name": "stdout",
     "output_type": "stream",
     "text": [
      "Fitting 5 folds for each of 30 candidates, totalling 150 fits\n"
     ]
    },
    {
     "name": "stderr",
     "output_type": "stream",
     "text": [
      "/home/ilker/miniconda3/envs/snowflakes/lib/python3.10/site-packages/sklearn/ensemble/_forest.py:413: FutureWarning: `max_features='auto'` has been deprecated in 1.1 and will be removed in 1.3. To keep the past behaviour, explicitly set `max_features=1.0` or remove this parameter as it is also the default value for RandomForestRegressors and ExtraTreesRegressors.\n",
      "  warn(\n",
      "/home/ilker/miniconda3/envs/snowflakes/lib/python3.10/site-packages/sklearn/ensemble/_forest.py:413: FutureWarning: `max_features='auto'` has been deprecated in 1.1 and will be removed in 1.3. To keep the past behaviour, explicitly set `max_features=1.0` or remove this parameter as it is also the default value for RandomForestRegressors and ExtraTreesRegressors.\n",
      "  warn(\n",
      "/home/ilker/miniconda3/envs/snowflakes/lib/python3.10/site-packages/sklearn/ensemble/_forest.py:413: FutureWarning: `max_features='auto'` has been deprecated in 1.1 and will be removed in 1.3. To keep the past behaviour, explicitly set `max_features=1.0` or remove this parameter as it is also the default value for RandomForestRegressors and ExtraTreesRegressors.\n",
      "  warn(\n",
      "/home/ilker/miniconda3/envs/snowflakes/lib/python3.10/site-packages/sklearn/ensemble/_forest.py:413: FutureWarning: `max_features='auto'` has been deprecated in 1.1 and will be removed in 1.3. To keep the past behaviour, explicitly set `max_features=1.0` or remove this parameter as it is also the default value for RandomForestRegressors and ExtraTreesRegressors.\n",
      "  warn(\n",
      "/home/ilker/miniconda3/envs/snowflakes/lib/python3.10/site-packages/sklearn/ensemble/_forest.py:413: FutureWarning: `max_features='auto'` has been deprecated in 1.1 and will be removed in 1.3. To keep the past behaviour, explicitly set `max_features=1.0` or remove this parameter as it is also the default value for RandomForestRegressors and ExtraTreesRegressors.\n",
      "  warn(\n",
      "/home/ilker/miniconda3/envs/snowflakes/lib/python3.10/site-packages/sklearn/ensemble/_forest.py:413: FutureWarning: `max_features='auto'` has been deprecated in 1.1 and will be removed in 1.3. To keep the past behaviour, explicitly set `max_features=1.0` or remove this parameter as it is also the default value for RandomForestRegressors and ExtraTreesRegressors.\n",
      "  warn(\n",
      "/home/ilker/miniconda3/envs/snowflakes/lib/python3.10/site-packages/sklearn/ensemble/_forest.py:413: FutureWarning: `max_features='auto'` has been deprecated in 1.1 and will be removed in 1.3. To keep the past behaviour, explicitly set `max_features=1.0` or remove this parameter as it is also the default value for RandomForestRegressors and ExtraTreesRegressors.\n",
      "  warn(\n",
      "/home/ilker/miniconda3/envs/snowflakes/lib/python3.10/site-packages/sklearn/ensemble/_forest.py:413: FutureWarning: `max_features='auto'` has been deprecated in 1.1 and will be removed in 1.3. To keep the past behaviour, explicitly set `max_features=1.0` or remove this parameter as it is also the default value for RandomForestRegressors and ExtraTreesRegressors.\n",
      "  warn(\n",
      "/home/ilker/miniconda3/envs/snowflakes/lib/python3.10/site-packages/sklearn/ensemble/_forest.py:413: FutureWarning: `max_features='auto'` has been deprecated in 1.1 and will be removed in 1.3. To keep the past behaviour, explicitly set `max_features=1.0` or remove this parameter as it is also the default value for RandomForestRegressors and ExtraTreesRegressors.\n",
      "  warn(\n",
      "/home/ilker/miniconda3/envs/snowflakes/lib/python3.10/site-packages/sklearn/ensemble/_forest.py:413: FutureWarning: `max_features='auto'` has been deprecated in 1.1 and will be removed in 1.3. To keep the past behaviour, explicitly set `max_features=1.0` or remove this parameter as it is also the default value for RandomForestRegressors and ExtraTreesRegressors.\n",
      "  warn(\n",
      "/home/ilker/miniconda3/envs/snowflakes/lib/python3.10/site-packages/sklearn/ensemble/_forest.py:413: FutureWarning: `max_features='auto'` has been deprecated in 1.1 and will be removed in 1.3. To keep the past behaviour, explicitly set `max_features=1.0` or remove this parameter as it is also the default value for RandomForestRegressors and ExtraTreesRegressors.\n",
      "  warn(\n",
      "/home/ilker/miniconda3/envs/snowflakes/lib/python3.10/site-packages/sklearn/ensemble/_forest.py:413: FutureWarning: `max_features='auto'` has been deprecated in 1.1 and will be removed in 1.3. To keep the past behaviour, explicitly set `max_features=1.0` or remove this parameter as it is also the default value for RandomForestRegressors and ExtraTreesRegressors.\n",
      "  warn(\n",
      "/home/ilker/miniconda3/envs/snowflakes/lib/python3.10/site-packages/sklearn/ensemble/_forest.py:413: FutureWarning: `max_features='auto'` has been deprecated in 1.1 and will be removed in 1.3. To keep the past behaviour, explicitly set `max_features=1.0` or remove this parameter as it is also the default value for RandomForestRegressors and ExtraTreesRegressors.\n",
      "  warn(\n",
      "/home/ilker/miniconda3/envs/snowflakes/lib/python3.10/site-packages/sklearn/ensemble/_forest.py:413: FutureWarning: `max_features='auto'` has been deprecated in 1.1 and will be removed in 1.3. To keep the past behaviour, explicitly set `max_features=1.0` or remove this parameter as it is also the default value for RandomForestRegressors and ExtraTreesRegressors.\n",
      "  warn(\n",
      "/home/ilker/miniconda3/envs/snowflakes/lib/python3.10/site-packages/sklearn/ensemble/_forest.py:413: FutureWarning: `max_features='auto'` has been deprecated in 1.1 and will be removed in 1.3. To keep the past behaviour, explicitly set `max_features=1.0` or remove this parameter as it is also the default value for RandomForestRegressors and ExtraTreesRegressors.\n",
      "  warn(\n",
      "/home/ilker/miniconda3/envs/snowflakes/lib/python3.10/site-packages/sklearn/ensemble/_forest.py:413: FutureWarning: `max_features='auto'` has been deprecated in 1.1 and will be removed in 1.3. To keep the past behaviour, explicitly set `max_features=1.0` or remove this parameter as it is also the default value for RandomForestRegressors and ExtraTreesRegressors.\n",
      "  warn(\n",
      "/home/ilker/miniconda3/envs/snowflakes/lib/python3.10/site-packages/sklearn/ensemble/_forest.py:413: FutureWarning: `max_features='auto'` has been deprecated in 1.1 and will be removed in 1.3. To keep the past behaviour, explicitly set `max_features=1.0` or remove this parameter as it is also the default value for RandomForestRegressors and ExtraTreesRegressors.\n",
      "  warn(\n",
      "/home/ilker/miniconda3/envs/snowflakes/lib/python3.10/site-packages/sklearn/ensemble/_forest.py:413: FutureWarning: `max_features='auto'` has been deprecated in 1.1 and will be removed in 1.3. To keep the past behaviour, explicitly set `max_features=1.0` or remove this parameter as it is also the default value for RandomForestRegressors and ExtraTreesRegressors.\n",
      "  warn(\n",
      "/home/ilker/miniconda3/envs/snowflakes/lib/python3.10/site-packages/sklearn/ensemble/_forest.py:413: FutureWarning: `max_features='auto'` has been deprecated in 1.1 and will be removed in 1.3. To keep the past behaviour, explicitly set `max_features=1.0` or remove this parameter as it is also the default value for RandomForestRegressors and ExtraTreesRegressors.\n",
      "  warn(\n",
      "/home/ilker/miniconda3/envs/snowflakes/lib/python3.10/site-packages/sklearn/ensemble/_forest.py:413: FutureWarning: `max_features='auto'` has been deprecated in 1.1 and will be removed in 1.3. To keep the past behaviour, explicitly set `max_features=1.0` or remove this parameter as it is also the default value for RandomForestRegressors and ExtraTreesRegressors.\n",
      "  warn(\n",
      "/home/ilker/miniconda3/envs/snowflakes/lib/python3.10/site-packages/sklearn/ensemble/_forest.py:413: FutureWarning: `max_features='auto'` has been deprecated in 1.1 and will be removed in 1.3. To keep the past behaviour, explicitly set `max_features=1.0` or remove this parameter as it is also the default value for RandomForestRegressors and ExtraTreesRegressors.\n",
      "  warn(\n",
      "/home/ilker/miniconda3/envs/snowflakes/lib/python3.10/site-packages/sklearn/ensemble/_forest.py:413: FutureWarning: `max_features='auto'` has been deprecated in 1.1 and will be removed in 1.3. To keep the past behaviour, explicitly set `max_features=1.0` or remove this parameter as it is also the default value for RandomForestRegressors and ExtraTreesRegressors.\n",
      "  warn(\n"
     ]
    },
    {
     "name": "stderr",
     "output_type": "stream",
     "text": [
      "/home/ilker/miniconda3/envs/snowflakes/lib/python3.10/site-packages/sklearn/ensemble/_forest.py:413: FutureWarning: `max_features='auto'` has been deprecated in 1.1 and will be removed in 1.3. To keep the past behaviour, explicitly set `max_features=1.0` or remove this parameter as it is also the default value for RandomForestRegressors and ExtraTreesRegressors.\n",
      "  warn(\n",
      "/home/ilker/miniconda3/envs/snowflakes/lib/python3.10/site-packages/sklearn/ensemble/_forest.py:413: FutureWarning: `max_features='auto'` has been deprecated in 1.1 and will be removed in 1.3. To keep the past behaviour, explicitly set `max_features=1.0` or remove this parameter as it is also the default value for RandomForestRegressors and ExtraTreesRegressors.\n",
      "  warn(\n",
      "/home/ilker/miniconda3/envs/snowflakes/lib/python3.10/site-packages/sklearn/ensemble/_forest.py:413: FutureWarning: `max_features='auto'` has been deprecated in 1.1 and will be removed in 1.3. To keep the past behaviour, explicitly set `max_features=1.0` or remove this parameter as it is also the default value for RandomForestRegressors and ExtraTreesRegressors.\n",
      "  warn(\n",
      "/home/ilker/miniconda3/envs/snowflakes/lib/python3.10/site-packages/sklearn/ensemble/_forest.py:413: FutureWarning: `max_features='auto'` has been deprecated in 1.1 and will be removed in 1.3. To keep the past behaviour, explicitly set `max_features=1.0` or remove this parameter as it is also the default value for RandomForestRegressors and ExtraTreesRegressors.\n",
      "  warn(\n",
      "/home/ilker/miniconda3/envs/snowflakes/lib/python3.10/site-packages/sklearn/ensemble/_forest.py:413: FutureWarning: `max_features='auto'` has been deprecated in 1.1 and will be removed in 1.3. To keep the past behaviour, explicitly set `max_features=1.0` or remove this parameter as it is also the default value for RandomForestRegressors and ExtraTreesRegressors.\n",
      "  warn(\n",
      "/home/ilker/miniconda3/envs/snowflakes/lib/python3.10/site-packages/sklearn/ensemble/_forest.py:413: FutureWarning: `max_features='auto'` has been deprecated in 1.1 and will be removed in 1.3. To keep the past behaviour, explicitly set `max_features=1.0` or remove this parameter as it is also the default value for RandomForestRegressors and ExtraTreesRegressors.\n",
      "  warn(\n",
      "/home/ilker/miniconda3/envs/snowflakes/lib/python3.10/site-packages/sklearn/ensemble/_forest.py:413: FutureWarning: `max_features='auto'` has been deprecated in 1.1 and will be removed in 1.3. To keep the past behaviour, explicitly set `max_features=1.0` or remove this parameter as it is also the default value for RandomForestRegressors and ExtraTreesRegressors.\n",
      "  warn(\n",
      "/home/ilker/miniconda3/envs/snowflakes/lib/python3.10/site-packages/sklearn/ensemble/_forest.py:413: FutureWarning: `max_features='auto'` has been deprecated in 1.1 and will be removed in 1.3. To keep the past behaviour, explicitly set `max_features=1.0` or remove this parameter as it is also the default value for RandomForestRegressors and ExtraTreesRegressors.\n",
      "  warn(\n",
      "/home/ilker/miniconda3/envs/snowflakes/lib/python3.10/site-packages/sklearn/ensemble/_forest.py:413: FutureWarning: `max_features='auto'` has been deprecated in 1.1 and will be removed in 1.3. To keep the past behaviour, explicitly set `max_features=1.0` or remove this parameter as it is also the default value for RandomForestRegressors and ExtraTreesRegressors.\n",
      "  warn(\n",
      "/home/ilker/miniconda3/envs/snowflakes/lib/python3.10/site-packages/sklearn/ensemble/_forest.py:413: FutureWarning: `max_features='auto'` has been deprecated in 1.1 and will be removed in 1.3. To keep the past behaviour, explicitly set `max_features=1.0` or remove this parameter as it is also the default value for RandomForestRegressors and ExtraTreesRegressors.\n",
      "  warn(\n",
      "/home/ilker/miniconda3/envs/snowflakes/lib/python3.10/site-packages/sklearn/ensemble/_forest.py:413: FutureWarning: `max_features='auto'` has been deprecated in 1.1 and will be removed in 1.3. To keep the past behaviour, explicitly set `max_features=1.0` or remove this parameter as it is also the default value for RandomForestRegressors and ExtraTreesRegressors.\n",
      "  warn(\n",
      "/home/ilker/miniconda3/envs/snowflakes/lib/python3.10/site-packages/sklearn/ensemble/_forest.py:413: FutureWarning: `max_features='auto'` has been deprecated in 1.1 and will be removed in 1.3. To keep the past behaviour, explicitly set `max_features=1.0` or remove this parameter as it is also the default value for RandomForestRegressors and ExtraTreesRegressors.\n",
      "  warn(\n",
      "/home/ilker/miniconda3/envs/snowflakes/lib/python3.10/site-packages/sklearn/ensemble/_forest.py:413: FutureWarning: `max_features='auto'` has been deprecated in 1.1 and will be removed in 1.3. To keep the past behaviour, explicitly set `max_features=1.0` or remove this parameter as it is also the default value for RandomForestRegressors and ExtraTreesRegressors.\n",
      "  warn(\n",
      "/home/ilker/miniconda3/envs/snowflakes/lib/python3.10/site-packages/sklearn/ensemble/_forest.py:413: FutureWarning: `max_features='auto'` has been deprecated in 1.1 and will be removed in 1.3. To keep the past behaviour, explicitly set `max_features=1.0` or remove this parameter as it is also the default value for RandomForestRegressors and ExtraTreesRegressors.\n",
      "  warn(\n",
      "/home/ilker/miniconda3/envs/snowflakes/lib/python3.10/site-packages/sklearn/ensemble/_forest.py:413: FutureWarning: `max_features='auto'` has been deprecated in 1.1 and will be removed in 1.3. To keep the past behaviour, explicitly set `max_features=1.0` or remove this parameter as it is also the default value for RandomForestRegressors and ExtraTreesRegressors.\n",
      "  warn(\n",
      "/home/ilker/miniconda3/envs/snowflakes/lib/python3.10/site-packages/sklearn/ensemble/_forest.py:413: FutureWarning: `max_features='auto'` has been deprecated in 1.1 and will be removed in 1.3. To keep the past behaviour, explicitly set `max_features=1.0` or remove this parameter as it is also the default value for RandomForestRegressors and ExtraTreesRegressors.\n",
      "  warn(\n",
      "/home/ilker/miniconda3/envs/snowflakes/lib/python3.10/site-packages/sklearn/ensemble/_forest.py:413: FutureWarning: `max_features='auto'` has been deprecated in 1.1 and will be removed in 1.3. To keep the past behaviour, explicitly set `max_features=1.0` or remove this parameter as it is also the default value for RandomForestRegressors and ExtraTreesRegressors.\n",
      "  warn(\n",
      "/home/ilker/miniconda3/envs/snowflakes/lib/python3.10/site-packages/sklearn/ensemble/_forest.py:413: FutureWarning: `max_features='auto'` has been deprecated in 1.1 and will be removed in 1.3. To keep the past behaviour, explicitly set `max_features=1.0` or remove this parameter as it is also the default value for RandomForestRegressors and ExtraTreesRegressors.\n",
      "  warn(\n",
      "/home/ilker/miniconda3/envs/snowflakes/lib/python3.10/site-packages/sklearn/ensemble/_forest.py:413: FutureWarning: `max_features='auto'` has been deprecated in 1.1 and will be removed in 1.3. To keep the past behaviour, explicitly set `max_features=1.0` or remove this parameter as it is also the default value for RandomForestRegressors and ExtraTreesRegressors.\n",
      "  warn(\n",
      "/home/ilker/miniconda3/envs/snowflakes/lib/python3.10/site-packages/sklearn/ensemble/_forest.py:413: FutureWarning: `max_features='auto'` has been deprecated in 1.1 and will be removed in 1.3. To keep the past behaviour, explicitly set `max_features=1.0` or remove this parameter as it is also the default value for RandomForestRegressors and ExtraTreesRegressors.\n",
      "  warn(\n",
      "/home/ilker/miniconda3/envs/snowflakes/lib/python3.10/site-packages/sklearn/ensemble/_forest.py:413: FutureWarning: `max_features='auto'` has been deprecated in 1.1 and will be removed in 1.3. To keep the past behaviour, explicitly set `max_features=1.0` or remove this parameter as it is also the default value for RandomForestRegressors and ExtraTreesRegressors.\n",
      "  warn(\n",
      "/home/ilker/miniconda3/envs/snowflakes/lib/python3.10/site-packages/sklearn/ensemble/_forest.py:413: FutureWarning: `max_features='auto'` has been deprecated in 1.1 and will be removed in 1.3. To keep the past behaviour, explicitly set `max_features=1.0` or remove this parameter as it is also the default value for RandomForestRegressors and ExtraTreesRegressors.\n",
      "  warn(\n"
     ]
    },
    {
     "name": "stderr",
     "output_type": "stream",
     "text": [
      "/home/ilker/miniconda3/envs/snowflakes/lib/python3.10/site-packages/sklearn/ensemble/_forest.py:413: FutureWarning: `max_features='auto'` has been deprecated in 1.1 and will be removed in 1.3. To keep the past behaviour, explicitly set `max_features=1.0` or remove this parameter as it is also the default value for RandomForestRegressors and ExtraTreesRegressors.\n",
      "  warn(\n",
      "/home/ilker/miniconda3/envs/snowflakes/lib/python3.10/site-packages/sklearn/ensemble/_forest.py:413: FutureWarning: `max_features='auto'` has been deprecated in 1.1 and will be removed in 1.3. To keep the past behaviour, explicitly set `max_features=1.0` or remove this parameter as it is also the default value for RandomForestRegressors and ExtraTreesRegressors.\n",
      "  warn(\n",
      "/home/ilker/miniconda3/envs/snowflakes/lib/python3.10/site-packages/sklearn/ensemble/_forest.py:413: FutureWarning: `max_features='auto'` has been deprecated in 1.1 and will be removed in 1.3. To keep the past behaviour, explicitly set `max_features=1.0` or remove this parameter as it is also the default value for RandomForestRegressors and ExtraTreesRegressors.\n",
      "  warn(\n",
      "/home/ilker/miniconda3/envs/snowflakes/lib/python3.10/site-packages/sklearn/ensemble/_forest.py:413: FutureWarning: `max_features='auto'` has been deprecated in 1.1 and will be removed in 1.3. To keep the past behaviour, explicitly set `max_features=1.0` or remove this parameter as it is also the default value for RandomForestRegressors and ExtraTreesRegressors.\n",
      "  warn(\n",
      "/home/ilker/miniconda3/envs/snowflakes/lib/python3.10/site-packages/sklearn/ensemble/_forest.py:413: FutureWarning: `max_features='auto'` has been deprecated in 1.1 and will be removed in 1.3. To keep the past behaviour, explicitly set `max_features=1.0` or remove this parameter as it is also the default value for RandomForestRegressors and ExtraTreesRegressors.\n",
      "  warn(\n",
      "/home/ilker/miniconda3/envs/snowflakes/lib/python3.10/site-packages/sklearn/ensemble/_forest.py:413: FutureWarning: `max_features='auto'` has been deprecated in 1.1 and will be removed in 1.3. To keep the past behaviour, explicitly set `max_features=1.0` or remove this parameter as it is also the default value for RandomForestRegressors and ExtraTreesRegressors.\n",
      "  warn(\n",
      "/home/ilker/miniconda3/envs/snowflakes/lib/python3.10/site-packages/sklearn/ensemble/_forest.py:413: FutureWarning: `max_features='auto'` has been deprecated in 1.1 and will be removed in 1.3. To keep the past behaviour, explicitly set `max_features=1.0` or remove this parameter as it is also the default value for RandomForestRegressors and ExtraTreesRegressors.\n",
      "  warn(\n",
      "/home/ilker/miniconda3/envs/snowflakes/lib/python3.10/site-packages/sklearn/ensemble/_forest.py:413: FutureWarning: `max_features='auto'` has been deprecated in 1.1 and will be removed in 1.3. To keep the past behaviour, explicitly set `max_features=1.0` or remove this parameter as it is also the default value for RandomForestRegressors and ExtraTreesRegressors.\n",
      "  warn(\n",
      "/home/ilker/miniconda3/envs/snowflakes/lib/python3.10/site-packages/sklearn/ensemble/_forest.py:413: FutureWarning: `max_features='auto'` has been deprecated in 1.1 and will be removed in 1.3. To keep the past behaviour, explicitly set `max_features=1.0` or remove this parameter as it is also the default value for RandomForestRegressors and ExtraTreesRegressors.\n",
      "  warn(\n",
      "/home/ilker/miniconda3/envs/snowflakes/lib/python3.10/site-packages/sklearn/ensemble/_forest.py:413: FutureWarning: `max_features='auto'` has been deprecated in 1.1 and will be removed in 1.3. To keep the past behaviour, explicitly set `max_features=1.0` or remove this parameter as it is also the default value for RandomForestRegressors and ExtraTreesRegressors.\n",
      "  warn(\n",
      "/home/ilker/miniconda3/envs/snowflakes/lib/python3.10/site-packages/sklearn/ensemble/_forest.py:413: FutureWarning: `max_features='auto'` has been deprecated in 1.1 and will be removed in 1.3. To keep the past behaviour, explicitly set `max_features=1.0` or remove this parameter as it is also the default value for RandomForestRegressors and ExtraTreesRegressors.\n",
      "  warn(\n",
      "/home/ilker/miniconda3/envs/snowflakes/lib/python3.10/site-packages/sklearn/ensemble/_forest.py:413: FutureWarning: `max_features='auto'` has been deprecated in 1.1 and will be removed in 1.3. To keep the past behaviour, explicitly set `max_features=1.0` or remove this parameter as it is also the default value for RandomForestRegressors and ExtraTreesRegressors.\n",
      "  warn(\n",
      "/home/ilker/miniconda3/envs/snowflakes/lib/python3.10/site-packages/sklearn/ensemble/_forest.py:413: FutureWarning: `max_features='auto'` has been deprecated in 1.1 and will be removed in 1.3. To keep the past behaviour, explicitly set `max_features=1.0` or remove this parameter as it is also the default value for RandomForestRegressors and ExtraTreesRegressors.\n",
      "  warn(\n",
      "/home/ilker/miniconda3/envs/snowflakes/lib/python3.10/site-packages/sklearn/ensemble/_forest.py:413: FutureWarning: `max_features='auto'` has been deprecated in 1.1 and will be removed in 1.3. To keep the past behaviour, explicitly set `max_features=1.0` or remove this parameter as it is also the default value for RandomForestRegressors and ExtraTreesRegressors.\n",
      "  warn(\n",
      "/home/ilker/miniconda3/envs/snowflakes/lib/python3.10/site-packages/sklearn/ensemble/_forest.py:413: FutureWarning: `max_features='auto'` has been deprecated in 1.1 and will be removed in 1.3. To keep the past behaviour, explicitly set `max_features=1.0` or remove this parameter as it is also the default value for RandomForestRegressors and ExtraTreesRegressors.\n",
      "  warn(\n",
      "/home/ilker/miniconda3/envs/snowflakes/lib/python3.10/site-packages/sklearn/ensemble/_forest.py:413: FutureWarning: `max_features='auto'` has been deprecated in 1.1 and will be removed in 1.3. To keep the past behaviour, explicitly set `max_features=1.0` or remove this parameter as it is also the default value for RandomForestRegressors and ExtraTreesRegressors.\n",
      "  warn(\n",
      "/home/ilker/miniconda3/envs/snowflakes/lib/python3.10/site-packages/sklearn/ensemble/_forest.py:413: FutureWarning: `max_features='auto'` has been deprecated in 1.1 and will be removed in 1.3. To keep the past behaviour, explicitly set `max_features=1.0` or remove this parameter as it is also the default value for RandomForestRegressors and ExtraTreesRegressors.\n",
      "  warn(\n",
      "/home/ilker/miniconda3/envs/snowflakes/lib/python3.10/site-packages/sklearn/ensemble/_forest.py:413: FutureWarning: `max_features='auto'` has been deprecated in 1.1 and will be removed in 1.3. To keep the past behaviour, explicitly set `max_features=1.0` or remove this parameter as it is also the default value for RandomForestRegressors and ExtraTreesRegressors.\n",
      "  warn(\n",
      "/home/ilker/miniconda3/envs/snowflakes/lib/python3.10/site-packages/sklearn/ensemble/_forest.py:413: FutureWarning: `max_features='auto'` has been deprecated in 1.1 and will be removed in 1.3. To keep the past behaviour, explicitly set `max_features=1.0` or remove this parameter as it is also the default value for RandomForestRegressors and ExtraTreesRegressors.\n",
      "  warn(\n",
      "/home/ilker/miniconda3/envs/snowflakes/lib/python3.10/site-packages/sklearn/ensemble/_forest.py:413: FutureWarning: `max_features='auto'` has been deprecated in 1.1 and will be removed in 1.3. To keep the past behaviour, explicitly set `max_features=1.0` or remove this parameter as it is also the default value for RandomForestRegressors and ExtraTreesRegressors.\n",
      "  warn(\n",
      "/home/ilker/miniconda3/envs/snowflakes/lib/python3.10/site-packages/sklearn/ensemble/_forest.py:413: FutureWarning: `max_features='auto'` has been deprecated in 1.1 and will be removed in 1.3. To keep the past behaviour, explicitly set `max_features=1.0` or remove this parameter as it is also the default value for RandomForestRegressors and ExtraTreesRegressors.\n",
      "  warn(\n"
     ]
    },
    {
     "data": {
      "text/html": [
       "<style>#sk-container-id-1 {color: black;background-color: white;}#sk-container-id-1 pre{padding: 0;}#sk-container-id-1 div.sk-toggleable {background-color: white;}#sk-container-id-1 label.sk-toggleable__label {cursor: pointer;display: block;width: 100%;margin-bottom: 0;padding: 0.3em;box-sizing: border-box;text-align: center;}#sk-container-id-1 label.sk-toggleable__label-arrow:before {content: \"▸\";float: left;margin-right: 0.25em;color: #696969;}#sk-container-id-1 label.sk-toggleable__label-arrow:hover:before {color: black;}#sk-container-id-1 div.sk-estimator:hover label.sk-toggleable__label-arrow:before {color: black;}#sk-container-id-1 div.sk-toggleable__content {max-height: 0;max-width: 0;overflow: hidden;text-align: left;background-color: #f0f8ff;}#sk-container-id-1 div.sk-toggleable__content pre {margin: 0.2em;color: black;border-radius: 0.25em;background-color: #f0f8ff;}#sk-container-id-1 input.sk-toggleable__control:checked~div.sk-toggleable__content {max-height: 200px;max-width: 100%;overflow: auto;}#sk-container-id-1 input.sk-toggleable__control:checked~label.sk-toggleable__label-arrow:before {content: \"▾\";}#sk-container-id-1 div.sk-estimator input.sk-toggleable__control:checked~label.sk-toggleable__label {background-color: #d4ebff;}#sk-container-id-1 div.sk-label input.sk-toggleable__control:checked~label.sk-toggleable__label {background-color: #d4ebff;}#sk-container-id-1 input.sk-hidden--visually {border: 0;clip: rect(1px 1px 1px 1px);clip: rect(1px, 1px, 1px, 1px);height: 1px;margin: -1px;overflow: hidden;padding: 0;position: absolute;width: 1px;}#sk-container-id-1 div.sk-estimator {font-family: monospace;background-color: #f0f8ff;border: 1px dotted black;border-radius: 0.25em;box-sizing: border-box;margin-bottom: 0.5em;}#sk-container-id-1 div.sk-estimator:hover {background-color: #d4ebff;}#sk-container-id-1 div.sk-parallel-item::after {content: \"\";width: 100%;border-bottom: 1px solid gray;flex-grow: 1;}#sk-container-id-1 div.sk-label:hover label.sk-toggleable__label {background-color: #d4ebff;}#sk-container-id-1 div.sk-serial::before {content: \"\";position: absolute;border-left: 1px solid gray;box-sizing: border-box;top: 0;bottom: 0;left: 50%;z-index: 0;}#sk-container-id-1 div.sk-serial {display: flex;flex-direction: column;align-items: center;background-color: white;padding-right: 0.2em;padding-left: 0.2em;position: relative;}#sk-container-id-1 div.sk-item {position: relative;z-index: 1;}#sk-container-id-1 div.sk-parallel {display: flex;align-items: stretch;justify-content: center;background-color: white;position: relative;}#sk-container-id-1 div.sk-item::before, #sk-container-id-1 div.sk-parallel-item::before {content: \"\";position: absolute;border-left: 1px solid gray;box-sizing: border-box;top: 0;bottom: 0;left: 50%;z-index: -1;}#sk-container-id-1 div.sk-parallel-item {display: flex;flex-direction: column;z-index: 1;position: relative;background-color: white;}#sk-container-id-1 div.sk-parallel-item:first-child::after {align-self: flex-end;width: 50%;}#sk-container-id-1 div.sk-parallel-item:last-child::after {align-self: flex-start;width: 50%;}#sk-container-id-1 div.sk-parallel-item:only-child::after {width: 0;}#sk-container-id-1 div.sk-dashed-wrapped {border: 1px dashed gray;margin: 0 0.4em 0.5em 0.4em;box-sizing: border-box;padding-bottom: 0.4em;background-color: white;}#sk-container-id-1 div.sk-label label {font-family: monospace;font-weight: bold;display: inline-block;line-height: 1.2em;}#sk-container-id-1 div.sk-label-container {text-align: center;}#sk-container-id-1 div.sk-container {/* jupyter's `normalize.less` sets `[hidden] { display: none; }` but bootstrap.min.css set `[hidden] { display: none !important; }` so we also need the `!important` here to be able to override the default hidden behavior on the sphinx rendered scikit-learn.org. See: https://github.com/scikit-learn/scikit-learn/issues/21755 */display: inline-block !important;position: relative;}#sk-container-id-1 div.sk-text-repr-fallback {display: none;}</style><div id=\"sk-container-id-1\" class=\"sk-top-container\"><div class=\"sk-text-repr-fallback\"><pre>RandomizedSearchCV(cv=5,\n",
       "                   estimator=Pipeline(steps=[(&#x27;preprocessor&#x27;,\n",
       "                                              ColumnTransformer(transformers=[(&#x27;categorical&#x27;,\n",
       "                                                                               Pipeline(steps=[(&#x27;onehot&#x27;,\n",
       "                                                                                                OneHotEncoder(handle_unknown=&#x27;ignore&#x27;))]),\n",
       "                                                                               [&#x27;Marka&#x27;,\n",
       "                                                                                &#x27;Arac &#x27;\n",
       "                                                                                &#x27;Tip &#x27;\n",
       "                                                                                &#x27;Grubu&#x27;,\n",
       "                                                                                &#x27;Arac &#x27;\n",
       "                                                                                &#x27;Tip&#x27;,\n",
       "                                                                                &#x27;Yakıt &#x27;\n",
       "                                                                                &#x27;Turu&#x27;,\n",
       "                                                                                &#x27;Vites&#x27;,\n",
       "                                                                                &#x27;Renk&#x27;,\n",
       "                                                                                &#x27;Kasa &#x27;\n",
       "                                                                                &#x27;Tipi&#x27;,\n",
       "                                                                                &#x27;Kimden&#x27;,\n",
       "                                                                                &#x27;Durum&#x27;]),\n",
       "                                                                              (&#x27;numerical&#x27;,\n",
       "                                                                               Pipeline(steps=[(&#x27;imputer&#x27;,\n",
       "                                                                                                SimpleImputer())]),\n",
       "                                                                               [&#x27;Model &#x27;\n",
       "                                                                                &#x27;Yıl&#x27;,\n",
       "                                                                                &#x27;Km&#x27;])])),\n",
       "                                             (&#x27;model&#x27;,\n",
       "                                              RandomForestRegressor())]),\n",
       "                   n_iter=30,\n",
       "                   param_distributions={&#x27;model__bootstrap&#x27;: [True, False],\n",
       "                                        &#x27;model__max_depth&#x27;: [10, 20, 30, 40, 50,\n",
       "                                                             60, 70, 80, 90,\n",
       "                                                             100, 110, 120],\n",
       "                                        &#x27;model__max_features&#x27;: [&#x27;auto&#x27;, &#x27;sqrt&#x27;],\n",
       "                                        &#x27;model__min_samples_split&#x27;: [2, 6, 10],\n",
       "                                        &#x27;model__n_estimators&#x27;: array([100, 200, 300, 400, 500, 600, 700, 800, 900])},\n",
       "                   verbose=True)</pre><b>In a Jupyter environment, please rerun this cell to show the HTML representation or trust the notebook. <br />On GitHub, the HTML representation is unable to render, please try loading this page with nbviewer.org.</b></div><div class=\"sk-container\" hidden><div class=\"sk-item sk-dashed-wrapped\"><div class=\"sk-label-container\"><div class=\"sk-label sk-toggleable\"><input class=\"sk-toggleable__control sk-hidden--visually\" id=\"sk-estimator-id-1\" type=\"checkbox\" ><label for=\"sk-estimator-id-1\" class=\"sk-toggleable__label sk-toggleable__label-arrow\">RandomizedSearchCV</label><div class=\"sk-toggleable__content\"><pre>RandomizedSearchCV(cv=5,\n",
       "                   estimator=Pipeline(steps=[(&#x27;preprocessor&#x27;,\n",
       "                                              ColumnTransformer(transformers=[(&#x27;categorical&#x27;,\n",
       "                                                                               Pipeline(steps=[(&#x27;onehot&#x27;,\n",
       "                                                                                                OneHotEncoder(handle_unknown=&#x27;ignore&#x27;))]),\n",
       "                                                                               [&#x27;Marka&#x27;,\n",
       "                                                                                &#x27;Arac &#x27;\n",
       "                                                                                &#x27;Tip &#x27;\n",
       "                                                                                &#x27;Grubu&#x27;,\n",
       "                                                                                &#x27;Arac &#x27;\n",
       "                                                                                &#x27;Tip&#x27;,\n",
       "                                                                                &#x27;Yakıt &#x27;\n",
       "                                                                                &#x27;Turu&#x27;,\n",
       "                                                                                &#x27;Vites&#x27;,\n",
       "                                                                                &#x27;Renk&#x27;,\n",
       "                                                                                &#x27;Kasa &#x27;\n",
       "                                                                                &#x27;Tipi&#x27;,\n",
       "                                                                                &#x27;Kimden&#x27;,\n",
       "                                                                                &#x27;Durum&#x27;]),\n",
       "                                                                              (&#x27;numerical&#x27;,\n",
       "                                                                               Pipeline(steps=[(&#x27;imputer&#x27;,\n",
       "                                                                                                SimpleImputer())]),\n",
       "                                                                               [&#x27;Model &#x27;\n",
       "                                                                                &#x27;Yıl&#x27;,\n",
       "                                                                                &#x27;Km&#x27;])])),\n",
       "                                             (&#x27;model&#x27;,\n",
       "                                              RandomForestRegressor())]),\n",
       "                   n_iter=30,\n",
       "                   param_distributions={&#x27;model__bootstrap&#x27;: [True, False],\n",
       "                                        &#x27;model__max_depth&#x27;: [10, 20, 30, 40, 50,\n",
       "                                                             60, 70, 80, 90,\n",
       "                                                             100, 110, 120],\n",
       "                                        &#x27;model__max_features&#x27;: [&#x27;auto&#x27;, &#x27;sqrt&#x27;],\n",
       "                                        &#x27;model__min_samples_split&#x27;: [2, 6, 10],\n",
       "                                        &#x27;model__n_estimators&#x27;: array([100, 200, 300, 400, 500, 600, 700, 800, 900])},\n",
       "                   verbose=True)</pre></div></div></div><div class=\"sk-parallel\"><div class=\"sk-parallel-item\"><div class=\"sk-item\"><div class=\"sk-label-container\"><div class=\"sk-label sk-toggleable\"><input class=\"sk-toggleable__control sk-hidden--visually\" id=\"sk-estimator-id-2\" type=\"checkbox\" ><label for=\"sk-estimator-id-2\" class=\"sk-toggleable__label sk-toggleable__label-arrow\">estimator: Pipeline</label><div class=\"sk-toggleable__content\"><pre>Pipeline(steps=[(&#x27;preprocessor&#x27;,\n",
       "                 ColumnTransformer(transformers=[(&#x27;categorical&#x27;,\n",
       "                                                  Pipeline(steps=[(&#x27;onehot&#x27;,\n",
       "                                                                   OneHotEncoder(handle_unknown=&#x27;ignore&#x27;))]),\n",
       "                                                  [&#x27;Marka&#x27;, &#x27;Arac Tip Grubu&#x27;,\n",
       "                                                   &#x27;Arac Tip&#x27;, &#x27;Yakıt Turu&#x27;,\n",
       "                                                   &#x27;Vites&#x27;, &#x27;Renk&#x27;, &#x27;Kasa Tipi&#x27;,\n",
       "                                                   &#x27;Kimden&#x27;, &#x27;Durum&#x27;]),\n",
       "                                                 (&#x27;numerical&#x27;,\n",
       "                                                  Pipeline(steps=[(&#x27;imputer&#x27;,\n",
       "                                                                   SimpleImputer())]),\n",
       "                                                  [&#x27;Model Yıl&#x27;, &#x27;Km&#x27;])])),\n",
       "                (&#x27;model&#x27;, RandomForestRegressor())])</pre></div></div></div><div class=\"sk-serial\"><div class=\"sk-item\"><div class=\"sk-serial\"><div class=\"sk-item sk-dashed-wrapped\"><div class=\"sk-label-container\"><div class=\"sk-label sk-toggleable\"><input class=\"sk-toggleable__control sk-hidden--visually\" id=\"sk-estimator-id-3\" type=\"checkbox\" ><label for=\"sk-estimator-id-3\" class=\"sk-toggleable__label sk-toggleable__label-arrow\">preprocessor: ColumnTransformer</label><div class=\"sk-toggleable__content\"><pre>ColumnTransformer(transformers=[(&#x27;categorical&#x27;,\n",
       "                                 Pipeline(steps=[(&#x27;onehot&#x27;,\n",
       "                                                  OneHotEncoder(handle_unknown=&#x27;ignore&#x27;))]),\n",
       "                                 [&#x27;Marka&#x27;, &#x27;Arac Tip Grubu&#x27;, &#x27;Arac Tip&#x27;,\n",
       "                                  &#x27;Yakıt Turu&#x27;, &#x27;Vites&#x27;, &#x27;Renk&#x27;, &#x27;Kasa Tipi&#x27;,\n",
       "                                  &#x27;Kimden&#x27;, &#x27;Durum&#x27;]),\n",
       "                                (&#x27;numerical&#x27;,\n",
       "                                 Pipeline(steps=[(&#x27;imputer&#x27;, SimpleImputer())]),\n",
       "                                 [&#x27;Model Yıl&#x27;, &#x27;Km&#x27;])])</pre></div></div></div><div class=\"sk-parallel\"><div class=\"sk-parallel-item\"><div class=\"sk-item\"><div class=\"sk-label-container\"><div class=\"sk-label sk-toggleable\"><input class=\"sk-toggleable__control sk-hidden--visually\" id=\"sk-estimator-id-4\" type=\"checkbox\" ><label for=\"sk-estimator-id-4\" class=\"sk-toggleable__label sk-toggleable__label-arrow\">categorical</label><div class=\"sk-toggleable__content\"><pre>[&#x27;Marka&#x27;, &#x27;Arac Tip Grubu&#x27;, &#x27;Arac Tip&#x27;, &#x27;Yakıt Turu&#x27;, &#x27;Vites&#x27;, &#x27;Renk&#x27;, &#x27;Kasa Tipi&#x27;, &#x27;Kimden&#x27;, &#x27;Durum&#x27;]</pre></div></div></div><div class=\"sk-serial\"><div class=\"sk-item\"><div class=\"sk-serial\"><div class=\"sk-item\"><div class=\"sk-estimator sk-toggleable\"><input class=\"sk-toggleable__control sk-hidden--visually\" id=\"sk-estimator-id-5\" type=\"checkbox\" ><label for=\"sk-estimator-id-5\" class=\"sk-toggleable__label sk-toggleable__label-arrow\">OneHotEncoder</label><div class=\"sk-toggleable__content\"><pre>OneHotEncoder(handle_unknown=&#x27;ignore&#x27;)</pre></div></div></div></div></div></div></div></div><div class=\"sk-parallel-item\"><div class=\"sk-item\"><div class=\"sk-label-container\"><div class=\"sk-label sk-toggleable\"><input class=\"sk-toggleable__control sk-hidden--visually\" id=\"sk-estimator-id-6\" type=\"checkbox\" ><label for=\"sk-estimator-id-6\" class=\"sk-toggleable__label sk-toggleable__label-arrow\">numerical</label><div class=\"sk-toggleable__content\"><pre>[&#x27;Model Yıl&#x27;, &#x27;Km&#x27;]</pre></div></div></div><div class=\"sk-serial\"><div class=\"sk-item\"><div class=\"sk-serial\"><div class=\"sk-item\"><div class=\"sk-estimator sk-toggleable\"><input class=\"sk-toggleable__control sk-hidden--visually\" id=\"sk-estimator-id-7\" type=\"checkbox\" ><label for=\"sk-estimator-id-7\" class=\"sk-toggleable__label sk-toggleable__label-arrow\">SimpleImputer</label><div class=\"sk-toggleable__content\"><pre>SimpleImputer()</pre></div></div></div></div></div></div></div></div></div></div><div class=\"sk-item\"><div class=\"sk-estimator sk-toggleable\"><input class=\"sk-toggleable__control sk-hidden--visually\" id=\"sk-estimator-id-8\" type=\"checkbox\" ><label for=\"sk-estimator-id-8\" class=\"sk-toggleable__label sk-toggleable__label-arrow\">RandomForestRegressor</label><div class=\"sk-toggleable__content\"><pre>RandomForestRegressor()</pre></div></div></div></div></div></div></div></div></div></div></div></div>"
      ],
      "text/plain": [
       "RandomizedSearchCV(cv=5,\n",
       "                   estimator=Pipeline(steps=[('preprocessor',\n",
       "                                              ColumnTransformer(transformers=[('categorical',\n",
       "                                                                               Pipeline(steps=[('onehot',\n",
       "                                                                                                OneHotEncoder(handle_unknown='ignore'))]),\n",
       "                                                                               ['Marka',\n",
       "                                                                                'Arac '\n",
       "                                                                                'Tip '\n",
       "                                                                                'Grubu',\n",
       "                                                                                'Arac '\n",
       "                                                                                'Tip',\n",
       "                                                                                'Yakıt '\n",
       "                                                                                'Turu',\n",
       "                                                                                'Vites',\n",
       "                                                                                'Renk',\n",
       "                                                                                'Kasa '\n",
       "                                                                                'Tipi',\n",
       "                                                                                'Kimden',\n",
       "                                                                                'Durum']),\n",
       "                                                                              ('numerical',\n",
       "                                                                               Pipeline(steps=[('imputer',\n",
       "                                                                                                SimpleImputer())]),\n",
       "                                                                               ['Model '\n",
       "                                                                                'Yıl',\n",
       "                                                                                'Km'])])),\n",
       "                                             ('model',\n",
       "                                              RandomForestRegressor())]),\n",
       "                   n_iter=30,\n",
       "                   param_distributions={'model__bootstrap': [True, False],\n",
       "                                        'model__max_depth': [10, 20, 30, 40, 50,\n",
       "                                                             60, 70, 80, 90,\n",
       "                                                             100, 110, 120],\n",
       "                                        'model__max_features': ['auto', 'sqrt'],\n",
       "                                        'model__min_samples_split': [2, 6, 10],\n",
       "                                        'model__n_estimators': array([100, 200, 300, 400, 500, 600, 700, 800, 900])},\n",
       "                   verbose=True)"
      ]
     },
     "execution_count": 34,
     "metadata": {},
     "output_type": "execute_result"
    }
   ],
   "source": [
    "# Fit the model\n",
    "np.random.seed(27)\n",
    "random_search_cv.fit(X_train, y_train)"
   ]
  },
  {
   "cell_type": "code",
   "execution_count": 35,
   "id": "3ded257d",
   "metadata": {},
   "outputs": [
    {
     "data": {
      "text/plain": [
       "{'model__n_estimators': 600,\n",
       " 'model__min_samples_split': 10,\n",
       " 'model__max_features': 'sqrt',\n",
       " 'model__max_depth': 110,\n",
       " 'model__bootstrap': True}"
      ]
     },
     "execution_count": 35,
     "metadata": {},
     "output_type": "execute_result"
    }
   ],
   "source": [
    "#Best HyperParameters of our model\n",
    "random_search_cv.best_params_"
   ]
  },
  {
   "cell_type": "code",
   "execution_count": 36,
   "id": "0c6388d6",
   "metadata": {},
   "outputs": [
    {
     "data": {
      "text/plain": [
       "0.7478404138636005"
      ]
     },
     "execution_count": 36,
     "metadata": {},
     "output_type": "execute_result"
    }
   ],
   "source": [
    "random_search_cv.score(X_test, y_test)"
   ]
  },
  {
   "cell_type": "code",
   "execution_count": 39,
   "id": "0ca01574",
   "metadata": {},
   "outputs": [
    {
     "name": "stdout",
     "output_type": "stream",
     "text": [
      "r^2 score : 74.78%\n",
      "mean absolute error score : 19643.972975581004\n",
      "mean squared error score : 1474863323.0121393\n"
     ]
    }
   ],
   "source": [
    "y_preds = random_search_cv.predict(X_test)\n",
    "new_result = evaluate_preds(y_true=y_test, y_preds=y_preds)"
   ]
  },
  {
   "cell_type": "code",
   "execution_count": 41,
   "id": "30f0eb69",
   "metadata": {},
   "outputs": [
    {
     "data": {
      "text/plain": [
       "({'r2': 0.59, 'mae': 16945.56, 'mse': 2423547491.81},\n",
       " {'r2': 0.75, 'mae': 19643.97, 'mse': 1474863323.01})"
      ]
     },
     "execution_count": 41,
     "metadata": {},
     "output_type": "execute_result"
    }
   ],
   "source": [
    "# Comparison of metrics before & after HyperParameter Tunning\n",
    "result, new_result"
   ]
  },
  {
   "cell_type": "markdown",
   "id": "62be53df",
   "metadata": {},
   "source": [
    "* As we can see above our r^2 has increased 0.16, and mae, mse decreased..\n",
    "* Mae means in average if a car's price is 100.000 our model estimates 119.643.. not bad at all"
   ]
  },
  {
   "cell_type": "code",
   "execution_count": 149,
   "id": "cb897f47",
   "metadata": {},
   "outputs": [
    {
     "data": {
      "image/png": "[encoded data removed]",
      "text/plain": [
       "<Figure size 640x480 with 1 Axes>"
      ]
     },
     "metadata": {},
     "output_type": "display_data"
    }
   ],
   "source": [
    "d = {\"Old R^2\": 0.59, \"New R^2\":0.75}\n",
    "df = pd.DataFrame(data=d, index=[\"r2 score\"])\n",
    "df.T.plot.bar();"
   ]
  },
  {
   "cell_type": "code",
   "execution_count": 112,
   "id": "40d118a6",
   "metadata": {},
   "outputs": [
    {
     "data": {
      "text/plain": [
       "['car_reg_model_final.joblib']"
      ]
     },
     "execution_count": 112,
     "metadata": {},
     "output_type": "execute_result"
    }
   ],
   "source": [
    "from joblib import dump, load\n",
    "# Save the model to filea\n",
    "dump(model, filename=\"car_reg_model_final.joblib\")"
   ]
  },
  {
   "cell_type": "markdown",
   "id": "45390758",
   "metadata": {},
   "source": [
    "## Evaluate our model more visually"
   ]
  },
  {
   "cell_type": "markdown",
   "id": "334f6848",
   "metadata": {},
   "source": [
    "* Scatter Plot"
   ]
  },
  {
   "cell_type": "code",
   "execution_count": 123,
   "id": "04dd7621",
   "metadata": {},
   "outputs": [],
   "source": [
    "d = {'True Label': np.array(y_test), 'Predicted Label': np.array(y_preds)}\n",
    "df = pd.DataFrame(data=d)"
   ]
  },
  {
   "cell_type": "code",
   "execution_count": 124,
   "id": "cf902731",
   "metadata": {},
   "outputs": [
    {
     "data": {
      "image/png": "[encoded data removed]",
      "text/plain": [
       "<Figure size 640x480 with 1 Axes>"
      ]
     },
     "metadata": {},
     "output_type": "display_data"
    }
   ],
   "source": [
    "fig, ax = plt.subplots()\n",
    "x = np.arange(0, len(df), 1)\n",
    "ax.scatter(x, df[\"True Label\"], c='b', label=\"Actual Values\")\n",
    "ax.scatter(x, df[\"Predicted Label\"], c='r', label=\"Predictions\")\n",
    "ax.legend(loc=(1, 0.5));"
   ]
  },
  {
   "cell_type": "markdown",
   "id": "e882f880",
   "metadata": {},
   "source": [
    "* Regression Line"
   ]
  },
  {
   "cell_type": "code",
   "execution_count": 113,
   "id": "1f900281",
   "metadata": {},
   "outputs": [
    {
     "data": {
      "image/png": "[encoded data removed]",
      "text/plain": [
       "<Figure size 640x480 with 1 Axes>"
      ]
     },
     "metadata": {},
     "output_type": "display_data"
    }
   ],
   "source": [
    "plt.scatter(y_test, y_preds)\n",
    "plt.plot(y_test,y_test,color=\"g\");"
   ]
  }
 ],
 "metadata": {
  "kernelspec": {
   "display_name": "Python 3 (ipykernel)",
   "language": "python",
   "name": "python3"
  },
  "language_info": {
   "codemirror_mode": {
    "name": "ipython",
    "version": 3
   },
   "file_extension": ".py",
   "mimetype": "text/x-python",
   "name": "python",
   "nbconvert_exporter": "python",
   "pygments_lexer": "ipython3",
   "version": "3.10.9"
  }
 },
 "nbformat": 4,
 "nbformat_minor": 5
}
