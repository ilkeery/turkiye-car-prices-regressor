{
 "cells": [
  {
   "cell_type": "markdown",
   "id": "a1281aeb",
   "metadata": {},
   "source": [
    "## Evaluate the model"
   ]
  },
  {
   "cell_type": "code",
   "execution_count": 1,
   "id": "7ce4ed3a",
   "metadata": {},
   "outputs": [],
   "source": [
    "from sklearn.metrics import r2_score, mean_absolute_error, mean_squared_error \n",
    "\n",
    "\n",
    "def evaluate_preds(y_true, y_preds):\n",
    "    r2 = r2_score(y_true, y_preds)\n",
    "    mae = mean_absolute_error(y_true, y_preds)\n",
    "    mse = mean_squared_error(y_true, y_preds)\n",
    "    \n",
    "    metric_dict = {\"r2\": round(r2, 2),\n",
    "                  \"mae\": round(mae, 2),\n",
    "                  \"mse\": round(mse, 2)}\n",
    "    \n",
    "    print(f\"r^2 score : {r2 * 100:.2f}%\")\n",
    "    print(f\"mean absolute error score : {mae * 100:.2f}%\")\n",
    "    print(f\"mean squared error score : {mse * 100:.2f}%\")\n",
    "    \n",
    "    return metric_dict\n",
    "\n"
   ]
  },
  {
   "cell_type": "code",
   "execution_count": 4,
   "id": "5e177e3f",
   "metadata": {},
   "outputs": [],
   "source": [
    "import matplotlib.pyplot as plt\n",
    "import numpy as np\n",
    "\n",
    "np.random.seed(27)\n",
    "\n",
    "def scatter_plot(X_train, X_test, y_train, y_test):\n",
    "    plt.figure(figsize=(4,3))\n",
    "    ax = plt.axes()\n",
    "    ax.scatter(X_train, y_train)\n",
    "    ax.plot(X_test, y_test)\n",
    "    \n",
    "    ax.set_xlabel('X')\n",
    "    ax.set_ylabel('y')\n",
    "    \n",
    "    ax.axis(\"tight\")\n",
    "    \n",
    "    plt.show()"
   ]
  }
 ],
 "metadata": {
  "kernelspec": {
   "display_name": "Python 3 (ipykernel)",
   "language": "python",
   "name": "python3"
  },
  "language_info": {
   "codemirror_mode": {
    "name": "ipython",
    "version": 3
   },
   "file_extension": ".py",
   "mimetype": "text/x-python",
   "name": "python",
   "nbconvert_exporter": "python",
   "pygments_lexer": "ipython3",
   "version": "3.10.9"
  }
 },
 "nbformat": 4,
 "nbformat_minor": 5
}
